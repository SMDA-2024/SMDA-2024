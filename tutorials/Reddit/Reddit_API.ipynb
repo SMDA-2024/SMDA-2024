{
 "cells": [
  {
   "cell_type": "markdown",
   "metadata": {},
   "source": [
    "\n",
    "<div style=\"text-align: center;\" >\n",
    "<h1 style=\"margin-top: 0.2em; margin-bottom: 0.1em;\">Reddit API</h1>\n",
    "<h4 style=\"margin-top: 0.7em; margin-bottom: 0.3em; font-style:italic\">\n",
    "Introduction\n",
    "\n",
    "</div>\n",
    "<br>"
   ]
  },
  {
   "cell_type": "markdown",
   "metadata": {},
   "source": [
    "***\n",
    "# **How to Use the Reddit API**\n",
    "\n",
    "* you will need a reddit account for this task\n",
    "\n",
    "To complete the following exercises, you need to have access to the `Reddit API`. \n",
    "\n",
    "#### Step-by-Step Instruction\n",
    "\n",
    "**1. Create a new App**\n",
    "\n",
    "The first steps follow the [guide](https://towardsdatascience.com/how-to-use-the-reddit-api-in-python-5e05ddfd1e5c) included in the assignment. \n",
    "\n",
    "* Go to [App Preferences](https://www.reddit.com/prefs/apps) in your Reddit Account. \n",
    "* Fill out the required details, select _script_ - and click _create app_.\n",
    "\n",
    "![title](imgs/create_app.png)\n",
    "\n",
    "* make note of the **personal use script** and **secret** tokens\n",
    "\n",
    "* From here we will use the [PRAW](https://praw.readthedocs.io/en/stable/getting_started/quick_start.html) package\n",
    "\n",
    "\n",
    "\n"
   ]
  },
  {
   "cell_type": "code",
   "execution_count": 4,
   "metadata": {},
   "outputs": [
    {
     "name": "stdout",
     "output_type": "stream",
     "text": [
      "Requirement already satisfied: praw in c:\\users\\clair\\appdata\\local\\packages\\pythonsoftwarefoundation.python.3.10_qbz5n2kfra8p0\\localcache\\local-packages\\python310\\site-packages (7.7.0)\n",
      "Requirement already satisfied: prawcore<3,>=2.1 in c:\\users\\clair\\appdata\\local\\packages\\pythonsoftwarefoundation.python.3.10_qbz5n2kfra8p0\\localcache\\local-packages\\python310\\site-packages (from praw) (2.3.0)\n",
      "Requirement already satisfied: update-checker>=0.18 in c:\\users\\clair\\appdata\\local\\packages\\pythonsoftwarefoundation.python.3.10_qbz5n2kfra8p0\\localcache\\local-packages\\python310\\site-packages (from praw) (0.18.0)\n",
      "Requirement already satisfied: websocket-client>=0.54.0 in c:\\users\\clair\\appdata\\local\\packages\\pythonsoftwarefoundation.python.3.10_qbz5n2kfra8p0\\localcache\\local-packages\\python310\\site-packages (from praw) (1.6.1)\n",
      "Requirement already satisfied: requests<3.0,>=2.6.0 in c:\\users\\clair\\appdata\\local\\packages\\pythonsoftwarefoundation.python.3.10_qbz5n2kfra8p0\\localcache\\local-packages\\python310\\site-packages (from prawcore<3,>=2.1->praw) (2.28.1)\n",
      "Requirement already satisfied: charset-normalizer<3,>=2 in c:\\users\\clair\\appdata\\local\\packages\\pythonsoftwarefoundation.python.3.10_qbz5n2kfra8p0\\localcache\\local-packages\\python310\\site-packages (from requests<3.0,>=2.6.0->prawcore<3,>=2.1->praw) (2.1.1)\n",
      "Requirement already satisfied: idna<4,>=2.5 in c:\\users\\clair\\appdata\\local\\packages\\pythonsoftwarefoundation.python.3.10_qbz5n2kfra8p0\\localcache\\local-packages\\python310\\site-packages (from requests<3.0,>=2.6.0->prawcore<3,>=2.1->praw) (3.4)\n",
      "Requirement already satisfied: urllib3<1.27,>=1.21.1 in c:\\users\\clair\\appdata\\local\\packages\\pythonsoftwarefoundation.python.3.10_qbz5n2kfra8p0\\localcache\\local-packages\\python310\\site-packages (from requests<3.0,>=2.6.0->prawcore<3,>=2.1->praw) (1.26.13)\n",
      "Requirement already satisfied: certifi>=2017.4.17 in c:\\users\\clair\\appdata\\local\\packages\\pythonsoftwarefoundation.python.3.10_qbz5n2kfra8p0\\localcache\\local-packages\\python310\\site-packages (from requests<3.0,>=2.6.0->prawcore<3,>=2.1->praw) (2022.12.7)\n"
     ]
    }
   ],
   "source": [
    "#!pip install praw\n",
    "import praw"
   ]
  },
  {
   "cell_type": "markdown",
   "metadata": {},
   "source": [
    "**2. Create an instance of the `Reddit` class**\n",
    "\n",
    "* To create a read-only `Reddit` Instance, you need the following information:\n",
    "    - Client ID (personal use script)\n",
    "    - Client secret\n",
    "    - User agent (username)\n"
   ]
  },
  {
   "cell_type": "code",
   "execution_count": null,
   "metadata": {},
   "outputs": [],
   "source": [
    "reddit = praw.Reddit(\n",
    "    client_id=\"my client id\",\n",
    "    client_secret=\"my client secret\",\n",
    "    user_agent=\"my user agent\",\n",
    ")\n"
   ]
  },
  {
   "cell_type": "markdown",
   "metadata": {},
   "source": [
    "**Examples**"
   ]
  },
  {
   "cell_type": "code",
   "execution_count": 6,
   "metadata": {},
   "outputs": [
    {
     "name": "stdout",
     "output_type": "stream",
     "text": [
      "True\n"
     ]
    }
   ],
   "source": [
    "print(reddit.read_only)"
   ]
  },
  {
   "cell_type": "code",
   "execution_count": 11,
   "metadata": {},
   "outputs": [
    {
     "name": "stdout",
     "output_type": "stream",
     "text": [
      "Trying to develop on reddit\n",
      "Kinda about to drop the books, need some advice if it´s worth to read on\n",
      "RX7600 half as fast as RX6800, and RX7600 faster then RX6700  (All 1440p)\n",
      "2\n",
      "1\n",
      "Top Strategies of Successful CEOs\n",
      ": )\n",
      "hello seG\n",
      "TEST\n"
     ]
    }
   ],
   "source": [
    "for submission in reddit.subreddit(\"test\").hot(limit=10):\n",
    "    if not (submission.pinned or submission.stickied):\n",
    "        print(submission.title)"
   ]
  },
  {
   "cell_type": "code",
   "execution_count": 9,
   "metadata": {},
   "outputs": [
    {
     "name": "stdout",
     "output_type": "stream",
     "text": [
      "AskReddit\n",
      "Ask Reddit...\n",
      "###### [ [ SERIOUS ] ](http://www.reddit.com/r/askreddit/submit?selftext=true&title=%5BSerious%5D)\n",
      "\n",
      "\n",
      "##### [Rules](https://www.reddit.com/r/AskReddit/wiki/index#wiki_rules):\n",
      "1. You must post a clear and direct question in the title. The title may contain two, short, necessary context sentences.\n",
      "No text is allowed in the textbox. Your thoughts/responses to the question can go in the comments section. [more >>](https://www.reddit.com/r/AskReddit/wiki/index#wiki_-rule_1-)\n",
      "\n",
      "2. Any post asking for advice should be generic and not specific to your situation alone. [more >>](https://www.reddit.com/r/AskReddit/wiki/index#wiki_-rule_2-)\n",
      "\n",
      "3. AskReddit is for open-ended discussion questions. [more >>](https://www.reddit.com/r/AskReddit/wiki/index#wiki_-rule_3-)\n",
      "\n",
      "4. Posting, or seeking, any identifying personal information, real or fake, will result in a ban without a prior warning. [more >>](https://www.reddit.com/r/AskReddit/wiki/index#wiki_-rule_4-)\n",
      "\n",
      "5. AskReddit is not your soapbox, personal army, or advertising platform. [more >>](https://www.reddit.com/r/AskReddit/wiki/index#wiki_-rule_5-)\n",
      "\n",
      "6. [Serious] tagged posts are off-limits to jokes or irrelevant replies. [more >>](https://www.reddit.com/r/AskReddit/wiki/index#wiki_-rule_6-)\n",
      "\n",
      "7. Soliciting money, goods, services, or favours is not allowed. [more >>](https://www.reddit.com/r/AskReddit/wiki/index#wiki_-rule_7-)\n",
      "\n",
      "8. Mods reserve the right to remove content or restrict users' posting privileges as necessary if it is deemed detrimental to the subreddit or to the experience of others. [more >>](https://www.reddit.com/r/AskReddit/wiki/index#wiki_-rule_8-)\n",
      "\n",
      "9. Comment replies consisting solely of images will be removed. [more >>](https://www.reddit.com/r/AskReddit/wiki/index#wiki_-rule_9-)\n",
      "\n",
      "10. Do not post harmful misinformation. [more >>](https://www.reddit.com/r/AskReddit/wiki/index/#wiki_-rule_10-)\n",
      "\n",
      "11. Spam, machine-generated content, and karma farming are not permitted. [more >>](https://www.reddit.com/r/AskReddit/wiki/index/#wiki_-rule_11-)\n",
      "\n",
      "##### If you think your post has disappeared, see spam or an inappropriate post, please do not hesitate to [contact the mods](https://www.reddit.com/message/compose?to=%2Fr%2FAskReddit), we're happy to help.\n",
      "\n",
      "---\n",
      "\n",
      "#### Tags to use:\n",
      "\n",
      "> ## [[Serious]](https://www.reddit.com/r/AskReddit/wiki/index#wiki_-rule_6-)\n",
      "\n",
      "### Use a **[Serious]** post tag to designate your post as a serious, on-topic-only thread.\n",
      "\n",
      "-\n",
      "\n",
      "#### Filter posts by subject:\n",
      "\n",
      "[Mod posts](http://ud.reddit.com/r/AskReddit/#ud)\n",
      "[Serious posts](https://www.reddit.com/r/AskReddit/search/?q=flair%3Aserious&sort=new&restrict_sr=on&t=all)\n",
      "[Megathread](http://bu.reddit.com/r/AskReddit/#bu)\n",
      "[Breaking news](http://nr.reddit.com/r/AskReddit/#nr)\n",
      "[Unfilter](/r/AskReddit)\n",
      "\n",
      "\n",
      "-\n",
      "\n",
      "### Please use spoiler tags to hide spoilers. `>!insert spoiler here!<`\n",
      "\n",
      "-\n",
      "\n",
      "#### Other subreddits you might like:\n",
      "Related|Subreddits\n",
      ":---|:---\n",
      "[Advice and Assistance](https://reddit.com/r/AskReddit/wiki/sidebarsubs/#wiki_advice_and_relationships)|[Ask Others](https://reddit.com/r/AskReddit/wiki/sidebarsubs/#wiki_ask_a_______)\n",
      "[AskReddit Offshoots](https://reddit.com/r/AskReddit/wiki/sidebarsubs/#wiki_askreddit_offshoots)|[General Discussion](https://reddit.com/r/AskReddit/wiki/sidebarsubs/#wiki_general_discussion)\n",
      "[Requests & Assistance](https://reddit.com/r/AskReddit/wiki/sidebarsubs/#wiki_requests_.26amp.3B_assistance)|[Help Me Identify This](https://reddit.com/r/AskReddit/wiki/sidebarsubs/#wiki_what_is_this______)\n",
      "[Reddit/Meta](https://reddit.com/r/AskReddit/wiki/sidebarsubs/#wiki_reddit.2Fmeta)|[Find Subreddits](https://reddit.com/r/AskReddit/wiki/sidebarsubs/#wiki_find_subreddits)\n",
      "\n",
      "\n",
      "\n",
      "\n",
      "-\n",
      "\n",
      "### Ever read the reddiquette? [Take a peek!](/wiki/reddiquette)\n",
      "\n",
      "[](#/RES_SR_Config/NightModeCompatible)\n"
     ]
    }
   ],
   "source": [
    "subreddit = reddit.subreddit(\"AskReddit\")\n",
    "\n",
    "print(subreddit.display_name)\n",
    "print(subreddit.title)\n",
    "print(subreddit.description)\n"
   ]
  },
  {
   "cell_type": "code",
   "execution_count": 10,
   "metadata": {},
   "outputs": [
    {
     "name": "stdout",
     "output_type": "stream",
     "text": [
      "What is, objectively, the worst song lyrics ever made?\n",
      "3768\n",
      "1djhlli\n",
      "https://www.reddit.com/r/AskReddit/comments/1djhlli/what_is_objectively_the_worst_song_lyrics_ever/\n",
      "If you could choose how you die how would you choose? \n",
      "3309\n",
      "1dj9ei0\n",
      "https://www.reddit.com/r/AskReddit/comments/1dj9ei0/if_you_could_choose_how_you_die_how_would_you/\n",
      "What is a topic you are very knowledgeable in, but almost never get to discuss? \n",
      "176\n",
      "1djhuzl\n",
      "https://www.reddit.com/r/AskReddit/comments/1djhuzl/what_is_a_topic_you_are_very_knowledgeable_in_but/\n",
      "What is something weird about your pet?\n",
      "171\n",
      "1djguvw\n",
      "https://www.reddit.com/r/AskReddit/comments/1djguvw/what_is_something_weird_about_your_pet/\n",
      "What’s one thing that is worth spending money on once a month?\n",
      "67\n",
      "1djmvir\n",
      "https://www.reddit.com/r/AskReddit/comments/1djmvir/whats_one_thing_that_is_worth_spending_money_on/\n",
      "What are some legendary reddit threads?\n",
      "3518\n",
      "1diwx7a\n",
      "https://www.reddit.com/r/AskReddit/comments/1diwx7a/what_are_some_legendary_reddit_threads/\n",
      "If you were super rich and balding, would you get a hair transplant? Why?\n",
      "53\n",
      "1djnjmx\n",
      "https://www.reddit.com/r/AskReddit/comments/1djnjmx/if_you_were_super_rich_and_balding_would_you_get/\n",
      "what are your favorite weird(not morbid) topics to watch videos on?\n",
      "2913\n",
      "1diyl54\n",
      "https://www.reddit.com/r/AskReddit/comments/1diyl54/what_are_your_favorite_weirdnot_morbid_topics_to/\n",
      "If a close friend asks you for one hundred dollars, and they would repay you back in a few days, how would you respond? \n",
      "949\n",
      "1dj58wd\n",
      "https://www.reddit.com/r/AskReddit/comments/1dj58wd/if_a_close_friend_asks_you_for_one_hundred/\n",
      "[serious] Which song you know has the most morbid lyrics?\n",
      "854\n",
      "1dj5lgu\n",
      "https://www.reddit.com/r/AskReddit/comments/1dj5lgu/serious_which_song_you_know_has_the_most_morbid/\n"
     ]
    }
   ],
   "source": [
    "for submission in subreddit.hot(limit=10):\n",
    "    print(submission.title)\n",
    "    print(submission.score)\n",
    "    print(submission.id)\n",
    "    print(submission.url)\n"
   ]
  },
  {
   "cell_type": "markdown",
   "metadata": {},
   "source": []
  }
 ],
 "metadata": {
  "kernelspec": {
   "display_name": "base",
   "language": "python",
   "name": "python3"
  },
  "language_info": {
   "codemirror_mode": {
    "name": "ipython",
    "version": 3
   },
   "file_extension": ".py",
   "mimetype": "text/x-python",
   "name": "python",
   "nbconvert_exporter": "python",
   "pygments_lexer": "ipython3",
   "version": "3.10.11"
  }
 },
 "nbformat": 4,
 "nbformat_minor": 2
}
