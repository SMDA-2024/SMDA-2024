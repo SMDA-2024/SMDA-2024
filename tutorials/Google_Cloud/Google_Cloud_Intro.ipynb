{
 "cells": [
  {
   "cell_type": "markdown",
   "metadata": {},
   "source": [
    "\n",
    "<div style=\"text-align: center;\" >\n",
    "<h1 style=\"margin-top: 0.2em; margin-bottom: 0.1em;\">Google Could and YouTube API</h1>\n",
    "<h4 style=\"margin-top: 0.7em; margin-bottom: 0.3em; font-style:italic\">\n",
    "Introduction\n",
    "\n",
    "</div>\n",
    "<br>"
   ]
  },
  {
   "cell_type": "markdown",
   "metadata": {},
   "source": [
    "***\n",
    "# **Google Cloud Set-Up**\n",
    "\n",
    "To complete the following exercises, you need to have access to the [YouTube Data API](https://developers.google.com/youtube/v3). This is [free](https://stackoverflow.com/questions/66412214) API where you can search for YouTube channels/videos programmatically, access the number of views, likes, comments a video has, and much more.\n",
    "\n",
    "\n",
    "#### Step-by-Step Instruction\n",
    "\n",
    "**1. Sign Up and Project Creation**\n",
    "* To sign up, navigate to https://cloud.google.com/ and create an account. You will have to enter your credit card details, but don’t worry: Google will not charge you for using the YouTube Data API. Signing up will also give you access to Googles [Cloud Free Program](https://cloud.google.com/free).\n",
    "* Navigate to https://console.cloud.google.com/ and create a new project.\n",
    "\n",
    "![title](img/project.png)\n",
    "\n",
    "\n",
    "**2. Enable YouTube API**\n",
    "* Open the navigation menu in the upper left corner, select `APIs and Services`, then `Library`. There you need to search for `youtube data api v3` and `enable` it.\n",
    "\n",
    "\n",
    "![title](img/API_library.png)\n",
    "\n",
    "![title](img/youtube.png)\n",
    "\n",
    "\n",
    "**3. Generate Credentials**\n",
    "\n",
    "* Next, navigate to the `Credentials` tab and create an API key. You will need this to access the API later on.\n",
    "\n",
    "\n",
    "![title](img/credentials.png)\n",
    "\n",
    "![title](img/create_key.png)\n",
    "\n",
    "\n",
    "* If, for some reason, you don't want to provide your details or don't have a creadit card, please contact your tutor (you can also ask one of your peers to generate an API key for you). Please note, that we have a limited amount of API keys, so you might run out of quota quicker with our key, than if you use your own key.\n",
    "\n",
    "### **API quota**\n",
    "Although the YouTube Data API is free, there is a quota limit of 10 000 units per project per day. In many cases one quota unit corresponds to 1 API call, but some endpoints are more expensive. To complete the assignment, you only need to use 3 endpoints: [search](https://developers.google.com/youtube/v3/docs/search/list) (costs 100 units/call), [channels](https://developers.google.com/youtube/v3/docs/channels/list) (1 unit/call), and [videos](https://developers.google.com/youtube/v3/docs/videos/list) (1 unit/call).\n",
    "<br>If you choose to use other methods, you can find a detailed summary of quota costs [here](https://developers.google.com/youtube/v3/determine_quota_cost).\n",
    "<br><br>\n",
    "Notes:\n",
    "* You get 10 000 quota units **per project**, so if you run out of quota, you can create new projects.\n",
    "* The search endpoint is much more expensive than the others, so avoid testing it on the full sample unless you are sure that your code works. Also make sure to save the output, so that you don't need to repeate these expensive requests."
   ]
  }
 ],
 "metadata": {
  "kernelspec": {
   "display_name": "base",
   "language": "python",
   "name": "python3"
  },
  "language_info": {
   "codemirror_mode": {
    "name": "ipython",
    "version": 3
   },
   "file_extension": ".py",
   "mimetype": "text/x-python",
   "name": "python",
   "nbconvert_exporter": "python",
   "pygments_lexer": "ipython3",
   "version": "3.9.13"
  }
 },
 "nbformat": 4,
 "nbformat_minor": 2
}
